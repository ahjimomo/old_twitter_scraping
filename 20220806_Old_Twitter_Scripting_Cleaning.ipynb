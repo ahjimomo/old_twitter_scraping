{
 "cells": [
  {
   "cell_type": "markdown",
   "id": "dd85fd5e",
   "metadata": {},
   "source": [
    "# Script to scrape old twitter posts older than 1-week\n",
    "<b>Date Created:</b> 5 July 2022<br>\n",
    "<b>Modifications:</b>\n",
    "- 6 August 2022: Cleaning and tokenization of tweets\n",
    "\n",
    "<b>Components:</b>\n",
    "- Scraping\n",
    "- Cleaning\n",
    "- Tokenization\n",
    "\n",
    "<b>Output:</b> CSV<br>"
   ]
  },
  {
   "cell_type": "code",
   "execution_count": 1,
   "id": "3b9d50e6",
   "metadata": {},
   "outputs": [],
   "source": [
    "# Uncomment for installation of tweet-preprocessor package\n",
    "#import sys\n",
    "#!{sys.executable} -m pip install nltk"
   ]
  },
  {
   "cell_type": "code",
   "execution_count": 2,
   "id": "779a162c",
   "metadata": {},
   "outputs": [],
   "source": [
    "# Uncomment to install snscrape\n",
    "#!{sys.executable} -m pip install snscrape"
   ]
  },
  {
   "cell_type": "code",
   "execution_count": 3,
   "id": "3296eff7",
   "metadata": {},
   "outputs": [],
   "source": [
    "# Uncomment to install tweepy\n",
    "#!{sys.executable} -m pip install tweepy"
   ]
  },
  {
   "cell_type": "markdown",
   "id": "5a763eae",
   "metadata": {},
   "source": [
    "# Scraping data from tweets based on keywords\n",
    "\n",
    "<b>Options available include:</b>\n",
    "- Keyword to search for\n",
    "- Start date and end date for tweets to be scraped\n",
    "- Output file name\n",
    "- Number of tweets to be scraped"
   ]
  },
  {
   "cell_type": "code",
   "execution_count": 4,
   "id": "daea737e",
   "metadata": {},
   "outputs": [],
   "source": [
    "# Import scraping libraries\n",
    "import tweepy\n",
    "import csv\n",
    "import pandas as pd"
   ]
  },
  {
   "cell_type": "code",
   "execution_count": 5,
   "id": "edd0e7cc",
   "metadata": {},
   "outputs": [],
   "source": [
    "# Provide your own credentials here.\n",
    "consumer_key = \"***\"\n",
    "consumer_secret = \"***\"\n",
    "access_token = \"***\"\n",
    "access_token_secret = \"***\""
   ]
  },
  {
   "cell_type": "code",
   "execution_count": 6,
   "id": "ea4028c8",
   "metadata": {},
   "outputs": [],
   "source": [
    "# Import sns scraper for twitter\n",
    "import snscrape.modules.twitter as sntwitter"
   ]
  },
  {
   "cell_type": "code",
   "execution_count": 7,
   "id": "165cd762",
   "metadata": {},
   "outputs": [],
   "source": [
    "# SETTING: Update your query keyword, start date, end date, file name to be saved, number of tweets to scrape\n",
    "keyword = \"BlueSG\"\n",
    "start_dt = \"2022-01-01\"\n",
    "end_dt = \"2022-04-07\"\n",
    "file_name = \"BlueSG_tweets_cleaned.csv\"\n",
    "num_tweets_to_scrape = 100"
   ]
  },
  {
   "cell_type": "code",
   "execution_count": 8,
   "id": "1d80cc05",
   "metadata": {},
   "outputs": [],
   "source": [
    "# Creates a csv in which you want to store the data.\n",
    "csvFile = open(file_name, 'a') \n",
    "csvWriter = csv.writer(csvFile)"
   ]
  },
  {
   "cell_type": "code",
   "execution_count": 9,
   "id": "4a615f88",
   "metadata": {},
   "outputs": [
    {
     "name": "stdout",
     "output_type": "stream",
     "text": [
      "2022-04-06 03:27:50+00:00\n",
      "2022-04-06 03:27:49+00:00\n",
      "2022-04-06 03:23:26+00:00\n",
      "2022-04-05 04:57:01+00:00\n",
      "2022-04-04 08:28:44+00:00\n",
      "2022-04-04 06:23:26+00:00\n",
      "2022-04-03 17:46:20+00:00\n",
      "2022-04-02 13:47:35+00:00\n",
      "2022-04-02 04:53:18+00:00\n",
      "2022-03-28 15:37:31+00:00\n",
      "2022-03-27 10:07:23+00:00\n",
      "2022-03-27 08:26:16+00:00\n",
      "2022-03-24 01:28:05+00:00\n",
      "2022-03-22 09:29:15+00:00\n",
      "2022-03-21 15:27:15+00:00\n",
      "2022-03-21 11:35:28+00:00\n",
      "2022-03-21 04:11:03+00:00\n",
      "2022-03-21 04:11:03+00:00\n",
      "2022-03-14 16:22:38+00:00\n",
      "2022-03-14 04:55:31+00:00\n",
      "2022-03-13 09:59:47+00:00\n",
      "2022-03-10 15:56:01+00:00\n",
      "2022-03-08 10:02:28+00:00\n",
      "2022-03-07 15:22:15+00:00\n",
      "2022-03-07 05:05:34+00:00\n",
      "2022-03-07 04:48:46+00:00\n",
      "2022-03-07 04:29:43+00:00\n",
      "2022-03-07 04:27:48+00:00\n",
      "2022-03-07 04:26:54+00:00\n",
      "2022-03-07 03:09:56+00:00\n",
      "2022-03-03 05:19:57+00:00\n",
      "2022-03-02 11:25:37+00:00\n",
      "2022-02-28 13:19:29+00:00\n",
      "2022-02-27 16:28:33+00:00\n",
      "2022-02-26 12:02:00+00:00\n",
      "2022-02-26 09:20:55+00:00\n",
      "2022-02-26 08:57:54+00:00\n",
      "2022-02-26 08:52:04+00:00\n",
      "2022-02-26 08:19:27+00:00\n",
      "2022-02-25 06:45:20+00:00\n",
      "2022-02-20 12:26:00+00:00\n",
      "2022-02-20 02:48:36+00:00\n",
      "2022-02-18 04:54:23+00:00\n",
      "2022-02-13 03:37:55+00:00\n",
      "2022-02-06 13:44:12+00:00\n",
      "2022-02-05 12:35:09+00:00\n",
      "2022-02-05 10:33:38+00:00\n",
      "2022-02-03 12:39:54+00:00\n",
      "2022-02-03 05:01:24+00:00\n",
      "2022-02-01 17:12:02+00:00\n",
      "2022-01-31 10:55:41+00:00\n",
      "2022-01-31 05:29:53+00:00\n",
      "2022-01-31 04:48:20+00:00\n",
      "2022-01-31 04:26:18+00:00\n",
      "2022-01-30 17:03:04+00:00\n",
      "2022-01-30 11:29:17+00:00\n",
      "2022-01-29 00:13:08+00:00\n",
      "2022-01-24 17:21:59+00:00\n",
      "2022-01-24 12:32:27+00:00\n",
      "2022-01-22 09:27:38+00:00\n",
      "2022-01-21 17:28:47+00:00\n",
      "2022-01-21 13:24:58+00:00\n",
      "2022-01-17 13:11:34+00:00\n",
      "2022-01-13 11:51:12+00:00\n",
      "2022-01-11 10:49:56+00:00\n",
      "2022-01-07 15:47:38+00:00\n",
      "2022-01-05 10:54:11+00:00\n"
     ]
    }
   ],
   "source": [
    "# Iterate twitter and scrape tweets based on keyword\n",
    "for i,tweet in enumerate(sntwitter.TwitterSearchScraper(keyword + \" since:\" + start_dt + \" until:\" + end_dt).get_items()) :\n",
    "        if i > num_tweets_to_scrape :\n",
    "            break\n",
    "        print(tweet.date) # To confirm scraping is performed\n",
    "        \n",
    "        csvWriter.writerow([tweet.date, tweet.content.encode(\"utf-8\")]) # Write to csv"
   ]
  },
  {
   "cell_type": "code",
   "execution_count": 10,
   "id": "325b571f",
   "metadata": {},
   "outputs": [],
   "source": [
    "# Close File\n",
    "csvFile.close()"
   ]
  },
  {
   "cell_type": "markdown",
   "id": "1159e40e",
   "metadata": {},
   "source": [
    "# Data Cleaning for data output for analysis\n",
    "\n",
    "<b>Cleaning performed includes:</b>\n",
    "- Decoding HTML\n",
    "- Removal of links, hash, username and punctuations\n",
    "- Removal of stopwords"
   ]
  },
  {
   "cell_type": "code",
   "execution_count": 11,
   "id": "4ec88386",
   "metadata": {},
   "outputs": [],
   "source": [
    "# Import cleaning libraries\n",
    "import html\n",
    "import re\n",
    "from nltk.corpus import stopwords\n",
    "from nltk.tokenize import word_tokenize"
   ]
  },
  {
   "cell_type": "code",
   "execution_count": 12,
   "id": "b6daa088",
   "metadata": {},
   "outputs": [],
   "source": [
    "# Uncomment if nltk library installed does not contain 'english' resources or function to tokenize\n",
    "#import nltk\n",
    "#nltk.download('stopwords')\n",
    "#nltk.download('punkt')"
   ]
  },
  {
   "cell_type": "code",
   "execution_count": 13,
   "id": "6f9c556c",
   "metadata": {},
   "outputs": [],
   "source": [
    "# SETTING: Update your critical words that could be a common stop word\n",
    "criticals = ['not']"
   ]
  },
  {
   "cell_type": "code",
   "execution_count": 14,
   "id": "f1d651b1",
   "metadata": {},
   "outputs": [],
   "source": [
    "# Open and rename columns\n",
    "df = pd.read_csv(file_name, header = None)\n",
    "df.columns = [\"Date\", \"Tweets\"]"
   ]
  },
  {
   "cell_type": "code",
   "execution_count": 16,
   "id": "5b3cf6de",
   "metadata": {},
   "outputs": [],
   "source": [
    "# Replacing newline with spaces\n",
    "for i in range(len(tweets)):\n",
    "    x = tweets[i].replace(\"\\n\",\" \")\n",
    "    \n",
    "    # Removal of html script\n",
    "    tweets[i] = html.unescape(x)"
   ]
  },
  {
   "cell_type": "code",
   "execution_count": 17,
   "id": "d7028f01",
   "metadata": {},
   "outputs": [],
   "source": [
    "# Cleaning tweet with regex - Removing starting letter b, Username, media & website\n",
    "for i in range(len(tweets)):\n",
    "    tweets[i] = re.sub(r\"^b|(@[A-Za-z0–9_]+)|[^\\w\\s]|http\\S+\", \"\", tweets[i])"
   ]
  },
  {
   "cell_type": "code",
   "execution_count": 18,
   "id": "2285b29b",
   "metadata": {},
   "outputs": [],
   "source": [
    "# Prearation of stopwords\n",
    "sw = stopwords.words('english')\n",
    "\n",
    "# Removing words that could be a common stopword but important in tweet\n",
    "for critical in criticals:\n",
    "    sw.remove(critical)"
   ]
  },
  {
   "cell_type": "code",
   "execution_count": 19,
   "id": "3dbb8189",
   "metadata": {},
   "outputs": [],
   "source": [
    "# Tokenizing the tweets\n",
    "for i in range(len(tweets)):\n",
    "    tweets[i] = word_tokenize(tweets[i])"
   ]
  },
  {
   "cell_type": "code",
   "execution_count": 20,
   "id": "3f81e35e",
   "metadata": {},
   "outputs": [],
   "source": [
    "# Removal of stopwords from tweets\n",
    "for i in range(len(tweets)):\n",
    "    tweets[i] = [word for word in tweets[i] if not word in sw]"
   ]
  },
  {
   "cell_type": "code",
   "execution_count": 21,
   "id": "e70b6584",
   "metadata": {},
   "outputs": [
    {
     "data": {
      "text/html": [
       "<div>\n",
       "<style scoped>\n",
       "    .dataframe tbody tr th:only-of-type {\n",
       "        vertical-align: middle;\n",
       "    }\n",
       "\n",
       "    .dataframe tbody tr th {\n",
       "        vertical-align: top;\n",
       "    }\n",
       "\n",
       "    .dataframe thead th {\n",
       "        text-align: right;\n",
       "    }\n",
       "</style>\n",
       "<table border=\"1\" class=\"dataframe\">\n",
       "  <thead>\n",
       "    <tr style=\"text-align: right;\">\n",
       "      <th></th>\n",
       "      <th>Date</th>\n",
       "      <th>Tweets</th>\n",
       "    </tr>\n",
       "  </thead>\n",
       "  <tbody>\n",
       "    <tr>\n",
       "      <th>0</th>\n",
       "      <td>2022-04-06 03:27:50+00:00</td>\n",
       "      <td>[people, use, blueSG, portable, motel, help, d...</td>\n",
       "    </tr>\n",
       "    <tr>\n",
       "      <th>1</th>\n",
       "      <td>2022-04-06 03:27:49+00:00</td>\n",
       "      <td>[anyone, WA, wan, na, lend, car, D, 0, acciden...</td>\n",
       "    </tr>\n",
       "    <tr>\n",
       "      <th>2</th>\n",
       "      <td>2022-04-06 03:23:26+00:00</td>\n",
       "      <td>[BlueSG, car, spotted, Woodlands, Checkpoint, ...</td>\n",
       "    </tr>\n",
       "    <tr>\n",
       "      <th>3</th>\n",
       "      <td>2022-04-05 04:57:01+00:00</td>\n",
       "      <td>[I, wouldnt, caught, dead, driving, bluesg]</td>\n",
       "    </tr>\n",
       "    <tr>\n",
       "      <th>4</th>\n",
       "      <td>2022-04-04 08:28:44+00:00</td>\n",
       "      <td>[yoongi, got, drivers, license, car, leh, blue...</td>\n",
       "    </tr>\n",
       "  </tbody>\n",
       "</table>\n",
       "</div>"
      ],
      "text/plain": [
       "                        Date  \\\n",
       "0  2022-04-06 03:27:50+00:00   \n",
       "1  2022-04-06 03:27:49+00:00   \n",
       "2  2022-04-06 03:23:26+00:00   \n",
       "3  2022-04-05 04:57:01+00:00   \n",
       "4  2022-04-04 08:28:44+00:00   \n",
       "\n",
       "                                              Tweets  \n",
       "0  [people, use, blueSG, portable, motel, help, d...  \n",
       "1  [anyone, WA, wan, na, lend, car, D, 0, acciden...  \n",
       "2  [BlueSG, car, spotted, Woodlands, Checkpoint, ...  \n",
       "3        [I, wouldnt, caught, dead, driving, bluesg]  \n",
       "4  [yoongi, got, drivers, license, car, leh, blue...  "
      ]
     },
     "execution_count": 21,
     "metadata": {},
     "output_type": "execute_result"
    }
   ],
   "source": [
    "# Replacing df tweet columns with tokenized cleaned tweets\n",
    "df['Tweets'] = tweets\n",
    "df.head()"
   ]
  },
  {
   "cell_type": "code",
   "execution_count": 22,
   "id": "9d5525af",
   "metadata": {},
   "outputs": [],
   "source": [
    "# Overwrite & save file back into csv. for further analysis\n",
    "df.to_csv(file_name, index = False)"
   ]
  }
 ],
 "metadata": {
  "kernelspec": {
   "display_name": "Python 3 (ipykernel)",
   "language": "python",
   "name": "python3"
  },
  "language_info": {
   "codemirror_mode": {
    "name": "ipython",
    "version": 3
   },
   "file_extension": ".py",
   "mimetype": "text/x-python",
   "name": "python",
   "nbconvert_exporter": "python",
   "pygments_lexer": "ipython3",
   "version": "3.10.1"
  }
 },
 "nbformat": 4,
 "nbformat_minor": 5
}
